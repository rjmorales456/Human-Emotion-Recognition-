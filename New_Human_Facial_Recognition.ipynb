{
 "cells": [
  {
   "cell_type": "markdown",
   "id": "a7f2283b",
   "metadata": {},
   "source": [
    "https://www.kaggle.com/datasets/apollo2506/facial-recognition-dataset\n",
    "\n",
    "Author: Gotam Dahiya"
   ]
  },
  {
   "cell_type": "code",
   "execution_count": 48,
   "id": "5593116d",
   "metadata": {},
   "outputs": [],
   "source": [
    "import matplotlib.pyplot as plt\n",
    "import numpy as np\n",
    "import tensorflow as tf\n",
    "from keras.preprocessing.image import ImageDataGenerator\n",
    "from tensorflow.keras.models import Sequential\n",
    "from tensorflow.keras.callbacks import EarlyStopping\n",
    "from tensorflow.keras.layers import Conv2D,MaxPool2D,Flatten,Dense,Dropout\n",
    "from tensorflow.keras.preprocessing import image\n",
    "import os\n",
    "import cv2 as cv\n",
    "import random"
   ]
  },
  {
   "cell_type": "markdown",
   "id": "a2175df4",
   "metadata": {},
   "source": [
    "Importing Dataset"
   ]
  },
  {
   "cell_type": "markdown",
   "id": "3e32841f",
   "metadata": {},
   "source": [
    "Preprocess Train Dataset"
   ]
  },
  {
   "cell_type": "code",
   "execution_count": 49,
   "id": "da791b89",
   "metadata": {},
   "outputs": [
    {
     "name": "stdout",
     "output_type": "stream",
     "text": [
      "Found 28273 images belonging to 6 classes.\n"
     ]
    }
   ],
   "source": [
    "#get the dataaset\n",
    "train_data = ImageDataGenerator(rescale = 1./255, shear_range=0.2,zoom_range=0.2,horizontal_flip = True)\n",
    "train_dataset = train_data.flow_from_directory('facial/Training\\Training',target_size=(128,128),batch_size=32,class_mode = 'categorical')"
   ]
  },
  {
   "cell_type": "code",
   "execution_count": 50,
   "id": "8d903ae2",
   "metadata": {},
   "outputs": [
    {
     "data": {
      "text/plain": [
       "{'Angry': 0, 'Fear': 1, 'Happy': 2, 'Neutral': 3, 'Sad': 4, 'Suprise': 5}"
      ]
     },
     "execution_count": 50,
     "metadata": {},
     "output_type": "execute_result"
    }
   ],
   "source": [
    "train_dataset.class_indices"
   ]
  },
  {
   "cell_type": "code",
   "execution_count": 51,
   "id": "69e4916f",
   "metadata": {},
   "outputs": [
    {
     "name": "stdout",
     "output_type": "stream",
     "text": [
      "Image Shape:  (32, 128, 128, 3)\n",
      "Label Shape:  (32, 6)\n"
     ]
    }
   ],
   "source": [
    "for image_batch,label_batch in train_dataset:\n",
    "    print('Image Shape: ',image_batch.shape)\n",
    "    print('Label Shape: ',label_batch.shape)\n",
    "    break"
   ]
  },
  {
   "cell_type": "markdown",
   "id": "2f6c8993",
   "metadata": {},
   "source": [
    "Preprocess Test Dataset"
   ]
  },
  {
   "cell_type": "code",
   "execution_count": 52,
   "id": "ee1dd253",
   "metadata": {},
   "outputs": [
    {
     "name": "stdout",
     "output_type": "stream",
     "text": [
      "Found 7067 images belonging to 6 classes.\n"
     ]
    }
   ],
   "source": [
    "test_data = ImageDataGenerator(rescale=1./255, shear_range=0.2,zoom_range=0.2,horizontal_flip = True)\n",
    "test_dataset = test_data.flow_from_directory('facial/Testing/Testing/',target_size=(180,180),batch_size=32,class_mode='categorical')"
   ]
  },
  {
   "cell_type": "code",
   "execution_count": 53,
   "id": "27fbe0e1",
   "metadata": {},
   "outputs": [
    {
     "data": {
      "text/plain": [
       "{'Angry': 0, 'Fear': 1, 'Happy': 2, 'Neutral': 3, 'Sad': 4, 'Suprise': 5}"
      ]
     },
     "execution_count": 53,
     "metadata": {},
     "output_type": "execute_result"
    }
   ],
   "source": [
    "test_dataset.class_indices"
   ]
  },
  {
   "cell_type": "code",
   "execution_count": 54,
   "id": "39b30c6c",
   "metadata": {},
   "outputs": [
    {
     "name": "stdout",
     "output_type": "stream",
     "text": [
      "Image Shape:  (32, 180, 180, 3)\n",
      "Label Shape:  (32, 6)\n"
     ]
    }
   ],
   "source": [
    "for image_batch,label_batch in test_dataset:\n",
    "    print('Image Shape: ',image_batch.shape)\n",
    "    print('Label Shape: ',label_batch.shape)\n",
    "    break"
   ]
  },
  {
   "cell_type": "code",
   "execution_count": null,
   "metadata": {},
   "outputs": [],
   "source": []
  },
  {
   "cell_type": "markdown",
   "id": "2480e496",
   "metadata": {},
   "source": [
    "Create a Validation Dataset"
   ]
  },
  {
   "cell_type": "code",
   "execution_count": 55,
   "id": "4f973c79",
   "metadata": {},
   "outputs": [
    {
     "name": "stdout",
     "output_type": "stream",
     "text": [
      "Found 25443 images belonging to 6 classes.\n"
     ]
    }
   ],
   "source": [
    "validation_data = ImageDataGenerator(rescale=1./255, shear_range=0.2,zoom_range=0.2,horizontal_flip = True,validation_split=0.9)\n",
    "validation_dataset = validation_data.flow_from_directory('facial/Training\\Training',target_size=(128,128),batch_size=32,class_mode='categorical',subset=\"validation\")"
   ]
  },
  {
   "cell_type": "code",
   "execution_count": 56,
   "id": "c5ac9fd5",
   "metadata": {},
   "outputs": [
    {
     "name": "stdout",
     "output_type": "stream",
     "text": [
      "Image Shape:  (32, 128, 128, 3)\n",
      "Label Shape:  (32, 6)\n"
     ]
    }
   ],
   "source": [
    "for image_batch,label_batch in validation_dataset:\n",
    "    print('Image Shape: ',image_batch.shape)\n",
    "    print('Label Shape: ',label_batch.shape)\n",
    "    break"
   ]
  },
  {
   "cell_type": "markdown",
   "id": "640161be",
   "metadata": {},
   "source": [
    "<!-- validation_data = ImageData -->"
   ]
  },
  {
   "cell_type": "markdown",
   "id": "7e0176ab",
   "metadata": {},
   "source": [
    "Display a random image"
   ]
  },
  {
   "cell_type": "code",
   "execution_count": 57,
   "id": "37740fbe",
   "metadata": {},
   "outputs": [
    {
     "name": "stdout",
     "output_type": "stream",
     "text": [
      "facial\\Training\\Training\\Fear\\Fear-3312.jpg\n",
      "C:\\Users\\RJ\\Personal\\\\facial\\Training\\Training\\Fear\\Fear-3312.jpg\n"
     ]
    }
   ],
   "source": [
    "directory='facial\\Training\\Training\\\\'\n",
    "\n",
    "sub_folder = []\n",
    "\n",
    "#get list of subfolders\n",
    "for folder in os.listdir(directory):\n",
    "    \n",
    "    folder_path = os.path.join(directory,folder)\n",
    "    if os.path.isdir(folder_path):\n",
    "        sub_folder.append(folder) # place the names of subfolders in list\n",
    "\n",
    "# if subfolder name exists\n",
    "if sub_folder:\n",
    "    random_sub = random.choice(sub_folder) #select a random subfolder name\n",
    "    random_subfolder = os.path.join(directory,random_sub) # join with main directory\n",
    "    \n",
    "    #get random images\n",
    "    images = [] # stores the images from subfolder in an array\n",
    "    for img in os.listdir(random_subfolder): #get path of random subfolder\n",
    "        if img.endswith(\".jpg\") or img.endswith(\".png\") or img.endswith(\".jpeg\"):\n",
    "            images.append(img) #append all images from subfolder\n",
    "    \n",
    "    #generate random images     \n",
    "    if images:\n",
    "        random_image = random.choice(images) #get random image\n",
    "        random_path = os.path.join(random_subfolder,random_image) #join random image to subfolder path\n",
    "\n",
    "        \n",
    "print(random_path)\n",
    "path= r\"C:\\Users\\RJ\\Personal\\\\\"+random_path\n",
    "print(path)\n",
    "img_path = image.load_img(path,target_size=(128,128))\n",
    "# plt.imshow(img_path)\n",
    "\n",
    "# adding a square\n",
    "img = cv.imread(path)\n",
    "face_cascade = cv.CascadeClassifier(\"haarcascade_frontalface_default.xml\")\n",
    "gray = cv.cvtColor(img,cv.COLOR_BGR2GRAY)\n",
    "faces =face_cascade.detectMultiScale(gray,1.1,5)\n",
    "\n",
    "for (x,y,weight,height) in faces:\n",
    "    \n",
    "    image = cv.rectangle(img,(x,y),(x+weight,y+height),(0,255,0),2)\n",
    "    cv.putText(image,\"Face\",(x,y-10),cv.FONT_HERSHEY_PLAIN,2,(0,0,255),2)\n",
    "    \n",
    "cv.imshow('Image',img)\n",
    "cv.waitKey(0)\n",
    "cv.destroyAllWindows()"
   ]
  },
  {
   "cell_type": "markdown",
   "id": "6e629af4",
   "metadata": {},
   "source": [
    "Building a Convolutional Neural Network"
   ]
  },
  {
   "cell_type": "code",
   "execution_count": 58,
   "id": "f6008a30",
   "metadata": {},
   "outputs": [],
   "source": [
    "model = Sequential()"
   ]
  },
  {
   "cell_type": "markdown",
   "id": "45c2fdef",
   "metadata": {},
   "source": [
    "Pooling"
   ]
  },
  {
   "cell_type": "markdown",
   "id": "81f103bc",
   "metadata": {},
   "source": []
  },
  {
   "cell_type": "code",
   "execution_count": 59,
   "id": "306b7e2f",
   "metadata": {},
   "outputs": [],
   "source": [
    "model.add(Conv2D(32,kernel_size=3,activation='relu',input_shape=[128,128,3]))\n",
    "model.add(MaxPool2D(pool_size=2,strides=2))\n",
    "model.add(Conv2D(64,kernel_size=3,activation='relu'))\n",
    "model.add(MaxPool2D(pool_size=2,strides=2))\n",
    "model.add(Conv2D(128,kernel_size=3,activation='relu'))\n",
    "model.add(MaxPool2D(pool_size=2,strides=2))\n",
    "# model.add(Conv2D(256,kernel_size=3,activation='relu'))\n",
    "# model.add(MaxPool2D(pool_size=2,strides=2))\n",
    "# model.add(Conv2D(512,kernel_size=3,activation='relu'))\n",
    "# model.add(MaxPool2D(pool_size=2,strides=2))"
   ]
  },
  {
   "cell_type": "markdown",
   "id": "23e79bf2",
   "metadata": {},
   "source": [
    "Flattening"
   ]
  },
  {
   "cell_type": "code",
   "execution_count": 60,
   "id": "ceb914a3",
   "metadata": {},
   "outputs": [],
   "source": [
    "model.add(Flatten())"
   ]
  },
  {
   "cell_type": "markdown",
   "id": "2ffb5a67",
   "metadata": {},
   "source": [
    "Connecting the Layers"
   ]
  },
  {
   "cell_type": "code",
   "execution_count": 71,
   "id": "0c1e174f",
   "metadata": {},
   "outputs": [],
   "source": [
    "model.add(Dense(256,activation='relu'))\n"
   ]
  },
  {
   "cell_type": "code",
   "execution_count": 72,
   "metadata": {},
   "outputs": [],
   "source": [
    "model.add(Dropout(0.5))"
   ]
  },
  {
   "cell_type": "code",
   "execution_count": 73,
   "metadata": {},
   "outputs": [],
   "source": [
    "model.add(Dense(128,activation='relu'))"
   ]
  },
  {
   "cell_type": "code",
   "execution_count": 74,
   "metadata": {},
   "outputs": [],
   "source": [
    "# model.add(Dropout(0.5))"
   ]
  },
  {
   "cell_type": "code",
   "execution_count": 75,
   "id": "5834be3e",
   "metadata": {},
   "outputs": [],
   "source": [
    "model.add(Dense(6,activation='softmax'))"
   ]
  },
  {
   "cell_type": "markdown",
   "metadata": {},
   "source": [
    "EarlyStopping"
   ]
  },
  {
   "cell_type": "code",
   "execution_count": 76,
   "metadata": {},
   "outputs": [],
   "source": [
    "# early_stopping = EarlyStopping()"
   ]
  },
  {
   "cell_type": "markdown",
   "id": "91c96692",
   "metadata": {},
   "source": [
    "Train the Model"
   ]
  },
  {
   "cell_type": "code",
   "execution_count": 77,
   "id": "85643be7",
   "metadata": {},
   "outputs": [],
   "source": [
    "model.compile(optimizer='adam',loss='categorical_crossentropy',metrics=['accuracy'])"
   ]
  },
  {
   "cell_type": "code",
   "execution_count": 78,
   "id": "63fcb73c",
   "metadata": {},
   "outputs": [
    {
     "name": "stdout",
     "output_type": "stream",
     "text": [
      "Model: \"sequential_2\"\n",
      "_________________________________________________________________\n",
      " Layer (type)                Output Shape              Param #   \n",
      "=================================================================\n",
      " conv2d_6 (Conv2D)           (None, 126, 126, 32)      896       \n",
      "                                                                 \n",
      " max_pooling2d_6 (MaxPooling  (None, 63, 63, 32)       0         \n",
      " 2D)                                                             \n",
      "                                                                 \n",
      " conv2d_7 (Conv2D)           (None, 61, 61, 64)        18496     \n",
      "                                                                 \n",
      " max_pooling2d_7 (MaxPooling  (None, 30, 30, 64)       0         \n",
      " 2D)                                                             \n",
      "                                                                 \n",
      " conv2d_8 (Conv2D)           (None, 28, 28, 128)       73856     \n",
      "                                                                 \n",
      " max_pooling2d_8 (MaxPooling  (None, 14, 14, 128)      0         \n",
      " 2D)                                                             \n",
      "                                                                 \n",
      " flatten_2 (Flatten)         (None, 25088)             0         \n",
      "                                                                 \n",
      " dense_6 (Dense)             (None, 256)               6422784   \n",
      "                                                                 \n",
      " dense_7 (Dense)             (None, 128)               32896     \n",
      "                                                                 \n",
      " dense_8 (Dense)             (None, 6)                 774       \n",
      "                                                                 \n",
      " dense_9 (Dense)             (None, 256)               1792      \n",
      "                                                                 \n",
      " dense_10 (Dense)            (None, 128)               32896     \n",
      "                                                                 \n",
      " dense_11 (Dense)            (None, 6)                 774       \n",
      "                                                                 \n",
      "=================================================================\n",
      "Total params: 6,585,164\n",
      "Trainable params: 6,585,164\n",
      "Non-trainable params: 0\n",
      "_________________________________________________________________\n"
     ]
    }
   ],
   "source": [
    "model.summary()"
   ]
  },
  {
   "cell_type": "markdown",
   "id": "f8e2283f",
   "metadata": {},
   "source": [
    "Fit the Model"
   ]
  },
  {
   "cell_type": "code",
   "execution_count": 79,
   "id": "27f77e32",
   "metadata": {},
   "outputs": [
    {
     "name": "stdout",
     "output_type": "stream",
     "text": [
      "Epoch 1/25\n",
      "884/884 [==============================] - 514s 581ms/step - loss: 1.3367 - accuracy: 0.4819 - val_loss: 1.2539 - val_accuracy: 0.5135\n",
      "Epoch 2/25\n",
      "884/884 [==============================] - 468s 529ms/step - loss: 1.2394 - accuracy: 0.5198 - val_loss: 1.1853 - val_accuracy: 0.5442\n",
      "Epoch 3/25\n",
      "884/884 [==============================] - 421s 476ms/step - loss: 1.1849 - accuracy: 0.5447 - val_loss: 1.1549 - val_accuracy: 0.5589\n",
      "Epoch 4/25\n",
      "884/884 [==============================] - 415s 470ms/step - loss: 1.1398 - accuracy: 0.5624 - val_loss: 1.1058 - val_accuracy: 0.5751\n",
      "Epoch 5/25\n",
      "884/884 [==============================] - 416s 470ms/step - loss: 1.1045 - accuracy: 0.5813 - val_loss: 1.0539 - val_accuracy: 0.6020\n",
      "Epoch 6/25\n",
      "884/884 [==============================] - 416s 470ms/step - loss: 1.0705 - accuracy: 0.5945 - val_loss: 1.0360 - val_accuracy: 0.6108\n",
      "Epoch 7/25\n",
      "884/884 [==============================] - 416s 471ms/step - loss: 1.0396 - accuracy: 0.6062 - val_loss: 0.9938 - val_accuracy: 0.6237\n",
      "Epoch 8/25\n",
      "884/884 [==============================] - 417s 471ms/step - loss: 1.0161 - accuracy: 0.6181 - val_loss: 0.9718 - val_accuracy: 0.6377\n",
      "Epoch 9/25\n",
      "884/884 [==============================] - 418s 472ms/step - loss: 0.9906 - accuracy: 0.6263 - val_loss: 0.9362 - val_accuracy: 0.6525\n",
      "Epoch 10/25\n",
      "884/884 [==============================] - 484s 548ms/step - loss: 0.9662 - accuracy: 0.6378 - val_loss: 0.9323 - val_accuracy: 0.6533\n",
      "Epoch 11/25\n",
      "884/884 [==============================] - 416s 471ms/step - loss: 0.9394 - accuracy: 0.6522 - val_loss: 0.9141 - val_accuracy: 0.6653\n",
      "Epoch 12/25\n",
      "884/884 [==============================] - 481s 544ms/step - loss: 0.9190 - accuracy: 0.6605 - val_loss: 0.9056 - val_accuracy: 0.6633\n",
      "Epoch 13/25\n",
      "884/884 [==============================] - 534s 604ms/step - loss: 0.8962 - accuracy: 0.6679 - val_loss: 0.8613 - val_accuracy: 0.6863\n",
      "Epoch 14/25\n",
      "884/884 [==============================] - 672s 760ms/step - loss: 0.8752 - accuracy: 0.6776 - val_loss: 0.8223 - val_accuracy: 0.7004\n",
      "Epoch 15/25\n",
      "884/884 [==============================] - 632s 715ms/step - loss: 0.8566 - accuracy: 0.6846 - val_loss: 0.8127 - val_accuracy: 0.7041\n",
      "Epoch 16/25\n",
      "884/884 [==============================] - 594s 672ms/step - loss: 0.8381 - accuracy: 0.6917 - val_loss: 0.8000 - val_accuracy: 0.7050\n",
      "Epoch 17/25\n",
      "884/884 [==============================] - 640s 724ms/step - loss: 0.8238 - accuracy: 0.6974 - val_loss: 0.7778 - val_accuracy: 0.7180\n",
      "Epoch 18/25\n",
      "884/884 [==============================] - 671s 759ms/step - loss: 0.8085 - accuracy: 0.7050 - val_loss: 0.7627 - val_accuracy: 0.7242\n",
      "Epoch 19/25\n",
      "884/884 [==============================] - 665s 753ms/step - loss: 0.7881 - accuracy: 0.7147 - val_loss: 0.7481 - val_accuracy: 0.7294\n",
      "Epoch 20/25\n",
      "884/884 [==============================] - 721s 816ms/step - loss: 0.7735 - accuracy: 0.7186 - val_loss: 0.7238 - val_accuracy: 0.7382\n",
      "Epoch 21/25\n",
      "884/884 [==============================] - 629s 712ms/step - loss: 0.7550 - accuracy: 0.7252 - val_loss: 0.7096 - val_accuracy: 0.7441\n",
      "Epoch 22/25\n",
      "884/884 [==============================] - 505s 571ms/step - loss: 0.7467 - accuracy: 0.7293 - val_loss: 0.7319 - val_accuracy: 0.7390\n",
      "Epoch 23/25\n",
      "884/884 [==============================] - 562s 635ms/step - loss: 0.7245 - accuracy: 0.7369 - val_loss: 0.6871 - val_accuracy: 0.7590\n",
      "Epoch 24/25\n",
      "884/884 [==============================] - 658s 745ms/step - loss: 0.7126 - accuracy: 0.7463 - val_loss: 0.7082 - val_accuracy: 0.7446\n",
      "Epoch 25/25\n",
      "884/884 [==============================] - 726s 821ms/step - loss: 0.6954 - accuracy: 0.7522 - val_loss: 0.6634 - val_accuracy: 0.7634\n"
     ]
    }
   ],
   "source": [
    "epochs=25\n",
    "hist = model.fit(train_dataset,validation_data=validation_dataset,epochs=epochs)"
   ]
  },
  {
   "cell_type": "code",
   "execution_count": 80,
   "id": "05e9af25",
   "metadata": {},
   "outputs": [
    {
     "data": {
      "image/png": "[encoded data removed]",
      "text/plain": [
       "<Figure size 800x500 with 1 Axes>"
      ]
     },
     "metadata": {},
     "output_type": "display_data"
    }
   ],
   "source": [
    "acc = hist.history['accuracy']\n",
    "val_acc = hist.history['val_accuracy']\n",
    "\n",
    "loss = hist.history['loss']\n",
    "val_loss = hist.history['val_loss']\n",
    "\n",
    "epochs_range = range(epochs)\n",
    "\n",
    "plt.figure(figsize=(8,5))\n",
    "plt.plot(epochs_range, acc, label='Training Accuracy')\n",
    "plt.plot(epochs_range, val_acc, label='Validation Accuracy')\n",
    "plt.legend(bbox_to_anchor =(1.00,1.00), ncol = 1)\n",
    "\n",
    "plt.plot(epochs_range, loss, label='Training Loss')\n",
    "plt.plot(epochs_range, val_loss, label='Validation Loss')\n",
    "plt.legend(bbox_to_anchor =(1.00,1.00), ncol = 1)\n",
    "plt.title('Training and Validation')\n",
    "plt.show()"
   ]
  },
  {
   "cell_type": "markdown",
   "id": "7c989199",
   "metadata": {},
   "source": [
    "Saving the Models\n"
   ]
  },
  {
   "cell_type": "code",
   "execution_count": 81,
   "id": "051d1374",
   "metadata": {},
   "outputs": [],
   "source": [
    "model.save(\"trial.h5\")"
   ]
  },
  {
   "cell_type": "code",
   "execution_count": 82,
   "id": "a1d10e93",
   "metadata": {},
   "outputs": [],
   "source": [
    "load_model = tf.keras.models.load_model('trial.h5')"
   ]
  },
  {
   "cell_type": "code",
   "execution_count": 83,
   "id": "167a0c8a",
   "metadata": {},
   "outputs": [
    {
     "data": {
      "text/plain": [
       "<keras.engine.sequential.Sequential at 0x17501591100>"
      ]
     },
     "execution_count": 83,
     "metadata": {},
     "output_type": "execute_result"
    }
   ],
   "source": [
    "load_model"
   ]
  },
  {
   "cell_type": "markdown",
   "id": "8850adf9",
   "metadata": {},
   "source": [
    "Making a prediction"
   ]
  },
  {
   "cell_type": "code",
   "execution_count": 86,
   "id": "33e2fa02",
   "metadata": {},
   "outputs": [
    {
     "name": "stdout",
     "output_type": "stream",
     "text": [
      "facial\\Testing\\Testing\\Suprise\\Suprise-110.jpg\n"
     ]
    },
    {
     "ename": "AttributeError",
     "evalue": "'numpy.ndarray' object has no attribute 'load_img'",
     "output_type": "error",
     "traceback": [
      "\u001b[1;31m---------------------------------------------------------------------------\u001b[0m",
      "\u001b[1;31mAttributeError\u001b[0m                            Traceback (most recent call last)",
      "\u001b[1;32mc:\\Users\\RJ\\Personal\\New_Human_Facial_Recognition.ipynb Cell 45\u001b[0m line \u001b[0;36m3\n\u001b[0;32m     <a href='vscode-notebook-cell:/c%3A/Users/RJ/Personal/New_Human_Facial_Recognition.ipynb#X62sZmlsZQ%3D%3D?line=27'>28</a>\u001b[0m \u001b[39mprint\u001b[39m(random_path)\n\u001b[0;32m     <a href='vscode-notebook-cell:/c%3A/Users/RJ/Personal/New_Human_Facial_Recognition.ipynb#X62sZmlsZQ%3D%3D?line=28'>29</a>\u001b[0m path\u001b[39m=\u001b[39m random_path\n\u001b[1;32m---> <a href='vscode-notebook-cell:/c%3A/Users/RJ/Personal/New_Human_Facial_Recognition.ipynb#X62sZmlsZQ%3D%3D?line=29'>30</a>\u001b[0m img \u001b[39m=\u001b[39m image\u001b[39m.\u001b[39;49mload_img(path,target_size\u001b[39m=\u001b[39m(\u001b[39m128\u001b[39m,\u001b[39m128\u001b[39m))\n\u001b[0;32m     <a href='vscode-notebook-cell:/c%3A/Users/RJ/Personal/New_Human_Facial_Recognition.ipynb#X62sZmlsZQ%3D%3D?line=31'>32</a>\u001b[0m test_image \u001b[39m=\u001b[39m image\u001b[39m.\u001b[39mload_img(path,target_size\u001b[39m=\u001b[39m(\u001b[39m128\u001b[39m,\u001b[39m128\u001b[39m))\n\u001b[0;32m     <a href='vscode-notebook-cell:/c%3A/Users/RJ/Personal/New_Human_Facial_Recognition.ipynb#X62sZmlsZQ%3D%3D?line=32'>33</a>\u001b[0m test_image \u001b[39m=\u001b[39m image\u001b[39m.\u001b[39mimg_to_array(test_image)\n",
      "\u001b[1;31mAttributeError\u001b[0m: 'numpy.ndarray' object has no attribute 'load_img'"
     ]
    }
   ],
   "source": [
    "# Make a Prediction Using Test Folder\n",
    "directory='facial\\Testing\\Testing\\\\'\n",
    "\n",
    "sub_folder = []\n",
    "\n",
    "#get list of subfolders\n",
    "for folder in os.listdir(directory):\n",
    "    \n",
    "    folder_path = os.path.join(directory,folder)\n",
    "    if os.path.isdir(folder_path):\n",
    "        sub_folder.append(folder)\n",
    "\n",
    "if sub_folder:\n",
    "    random_sub = random.choice(sub_folder)\n",
    "    random_subfolder = os.path.join(directory,random_sub)\n",
    "    \n",
    "    #get random images\n",
    "    images = [] # stores the images from subfolder in an array\n",
    "    for img in os.listdir(random_subfolder):\n",
    "        if img.endswith(\".jpg\") or img.endswith(\".png\") or img.endswith(\".jpeg\"):\n",
    "            images.append(img)\n",
    "            \n",
    "    if images:\n",
    "        random_image = random.choice(images)\n",
    "        random_path = os.path.join(random_subfolder,random_image)\n",
    "\n",
    "        \n",
    "print(random_path)\n",
    "path= random_path\n",
    "img = image.load_img(path,target_size=(128,128))\n",
    "\n",
    "test_image = image.load_img(path,target_size=(128,128))\n",
    "test_image = image.img_to_array(test_image)\n",
    "test_image = test_image / 255.0\n",
    "test_image = np.expand_dims(test_image, axis=0)\n",
    "pred = load_model.predict(test_image)\n",
    "\n",
    "score = tf.nn.softmax(pred[0])\n",
    "score = score.numpy() \n",
    "categories = test_dataset.class_indices\n",
    "\n",
    "print(categories)\n",
    "\n",
    "result = np.argmax(score)\n",
    "\n",
    "# actual\n",
    "if result == 0:\n",
    "    actual = 'Angry'\n",
    "elif result == 1:\n",
    "    actual = 'Fear'\n",
    "elif result == 2:\n",
    "    actual = 'Happy'\n",
    "elif result == 3:\n",
    "    actual = 'Neutral'\n",
    "elif result == 4:\n",
    "    actual = 'Sad'\n",
    "elif result == 5:\n",
    "    actual = 'Surprise'\n",
    "\n",
    "# prediction \n",
    "if result == 0:\n",
    "    prediction = 'Angry'\n",
    "elif result == 1:\n",
    "    prediction = 'Fear'\n",
    "elif result == 2:\n",
    "    prediction = 'Happy'\n",
    "elif result == 3:\n",
    "    prediction = 'Neutral'\n",
    "elif result == 4:\n",
    "    prediction = 'Sad'\n",
    "elif result == 5:\n",
    "    prediction = 'Surprise'\n",
    "    \n",
    "print('Actual: ', actual)\n",
    "print('Prediction: ',prediction)\n",
    "\n",
    "plt.imshow(img)"
   ]
  },
  {
   "cell_type": "code",
   "execution_count": null,
   "id": "54234a76",
   "metadata": {},
   "outputs": [],
   "source": []
  }
 ],
 "metadata": {
  "kernelspec": {
   "display_name": "Python 3 (ipykernel)",
   "language": "python",
   "name": "python3"
  },
  "language_info": {
   "codemirror_mode": {
    "name": "ipython",
    "version": 3
   },
   "file_extension": ".py",
   "mimetype": "text/x-python",
   "name": "python",
   "nbconvert_exporter": "python",
   "pygments_lexer": "ipython3",
   "version": "3.9.17"
  }
 },
 "nbformat": 4,
 "nbformat_minor": 5
}
